{
 "cells": [
  {
   "cell_type": "markdown",
   "metadata": {},
   "source": [
    "# Unzip All ZIP files and organize into separate folders"
   ]
  },
  {
   "cell_type": "code",
   "execution_count": 4,
   "metadata": {},
   "outputs": [],
   "source": [
    "import multiprocessing\n",
    "import os\n",
    "import shutil\n",
    "import zipfile\n",
    "from pathlib import Path\n",
    "\n",
    "from tqdm import tqdm"
   ]
  },
  {
   "cell_type": "code",
   "execution_count": 5,
   "metadata": {},
   "outputs": [
    {
     "name": "stderr",
     "output_type": "stream",
     "text": [
      "Processing ZIP files: 0it [00:00, ?it/s]\n"
     ]
    }
   ],
   "source": [
    "def list_zip_files():\n",
    "    \"\"\"\n",
    "    List all ZIP files in the current directory.\n",
    "    \"\"\"\n",
    "    return list(Path('.').glob('*.zip'))\n",
    "\n",
    "def extract_zip_file(zip_file, extract_to):\n",
    "    \"\"\"\n",
    "    Extract a ZIP file to a specific location.\n",
    "    \"\"\"\n",
    "    with zipfile.ZipFile(zip_file, 'r') as zip_ref:\n",
    "        zip_ref.extractall(extract_to)\n",
    "    print(f'Extracted: {zip_file}')\n",
    "\n",
    "def is_image_file(filename):\n",
    "    \"\"\"\n",
    "    Check if a file is an image based on its extension.\n",
    "    \"\"\"\n",
    "    return filename.suffix.lower() in ['.jpg', '.jpeg', '.png', '.bmp', '.gif', '.tiff']\n",
    "\n",
    "def move_files_to_data_folder(root_dir, target_dir='data'):\n",
    "    \"\"\"\n",
    "    Move files to target data directory based on categories inferred from directory names.\n",
    "    \"\"\"\n",
    "    root_path = Path(root_dir)\n",
    "    target_path = Path(target_dir)\n",
    "    image_files = [f for f in root_path.rglob('*') if f.is_file() and is_image_file(f)]\n",
    "\n",
    "    for file in image_files:\n",
    "        category_name = file.parent.name\n",
    "        target_category_path = target_path / category_name\n",
    "        target_category_path.mkdir(parents=True, exist_ok=True)\n",
    "        shutil.move(str(file), str(target_category_path / file.name))\n",
    "        print(f'Moved: {file} to {target_category_path / file.name}')\n",
    "\n",
    "def process_folder(folder):\n",
    "    \"\"\"\n",
    "    Process each folder by extracting and moving files.\n",
    "    \"\"\"\n",
    "    extract_root = f'extracted_files_{Path(folder).stem}'\n",
    "    extract_zip_file(folder, extract_root)\n",
    "    move_files_to_data_folder(extract_root)\n",
    "    shutil.rmtree(extract_root)\n",
    "\n",
    "def main():\n",
    "    # Step 1: List ZIP files\n",
    "    zip_files = list_zip_files()\n",
    "\n",
    "    # Step 2: Use multiprocessing to handle each ZIP file concurrently\n",
    "    with multiprocessing.Pool(processes=multiprocessing.cpu_count()) as pool:\n",
    "        for _ in tqdm(pool.imap_unordered(process_folder, zip_files), total=len(zip_files), desc=\"Processing ZIP files\"):\n",
    "            pass\n",
    "\n",
    "if __name__ == \"__main__\":\n",
    "    main()\n"
   ]
  },
  {
   "cell_type": "markdown",
   "metadata": {},
   "source": [
    "# Train the MODEL"
   ]
  },
  {
   "cell_type": "code",
   "execution_count": 6,
   "metadata": {},
   "outputs": [
    {
     "name": "stdout",
     "output_type": "stream",
     "text": [
      "^C\n"
     ]
    }
   ],
   "source": [
    "!git clone https://github.com/WongKinYiu/yolov7.git"
   ]
  },
  {
   "cell_type": "code",
   "execution_count": null,
   "metadata": {},
   "outputs": [],
   "source": [
    "import torch\n",
    "from IPython.display import Image  # for displaying images\n",
    "import os \n",
    "import random\n",
    "import shutil\n",
    "from sklearn.model_selection import train_test_split\n",
    "import xml.etree.ElementTree as ET\n",
    "from xml.dom import minidom\n",
    "from tqdm import tqdm\n",
    "from PIL import Image, ImageDraw\n",
    "import numpy as np\n",
    "import matplotlib.pyplot as plt\n",
    "\n",
    "random.seed(108)\n"
   ]
  }
 ],
 "metadata": {
  "kernelspec": {
   "display_name": "torch2",
   "language": "python",
   "name": "python3"
  },
  "language_info": {
   "codemirror_mode": {
    "name": "ipython",
    "version": 3
   },
   "file_extension": ".py",
   "mimetype": "text/x-python",
   "name": "python",
   "nbconvert_exporter": "python",
   "pygments_lexer": "ipython3",
   "version": "3.11.4"
  }
 },
 "nbformat": 4,
 "nbformat_minor": 2
}
